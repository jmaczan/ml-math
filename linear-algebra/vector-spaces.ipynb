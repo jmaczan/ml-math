{
 "cells": [
  {
   "cell_type": "markdown",
   "metadata": {},
   "source": [
    "complex arithmetic - associativity proof\n",
    "\n",
    "$(\\alpha\\beta)\\lambda=\\alpha(\\beta\\lambda)$ for all $\\alpha, \\beta, \\lambda \\in \\mathbb{C}$\n",
    "\n",
    "$\\alpha = a + bi$, $\\beta = c + di$ and $\\lambda = e + fi$\n",
    "\n",
    "$$(\\alpha\\beta)\\lambda = ((a + bi)(c + di))(e + fi)$$\n",
    "$$= ((ac - bd) + (ad + bc)i)(e + fi)$$ \n",
    "$$= (ace - bde) + (ade + bce)i + (acf - bdf)i -(adf + bcf)$$\n",
    "$$= ace - bde - adf -bcf + (ade + bce + acf - bdf)i$$\n",
    "\n",
    "$$\\alpha(\\beta\\lambda) = (a + bi)((c + di)(e + fi))$$\n",
    "$$= (a + bi)(ce + cfi + edi -df)$$\n",
    "$$= (a + bi)(ce - df + (cf + ed)i)$$\n",
    "$$= ace - adf + (acf + aed)i + bcei - bdfi + (bcf + bed)i^2$$\n",
    "$$= ace - adf + (acf + aed + bce - bdf)i - bcf - bed$$\n",
    "$$= ace -bde -adf -bcf + (ade + bce + acf -bdf)i$$ \n",
    "$\\blacksquare$"
   ]
  },
  {
   "cell_type": "markdown",
   "metadata": {},
   "source": [
    "afaiunderstand, a minimal field is a set of {0, 1} with defined operations of addition and multiplication, where the only difference is that 1 + 1 is 0 (like an integer overflow)"
   ]
  },
  {
   "cell_type": "markdown",
   "metadata": {},
   "source": [
    "> For results (except in the inner product chapters) that have as a hypothesis\n",
    "that 𝐅 is 𝐂, you can probably replace that hypothesis with the hypothesis that 𝐅\n",
    "is an algebraically closed field, which means that every nonconstant polynomial\n",
    "with coefficients in 𝐅 has a zero."
   ]
  },
  {
   "cell_type": "code",
   "execution_count": 18,
   "metadata": {},
   "outputs": [
    {
     "data": {
      "text/html": [
       "<img src=\"image.png\" width=\"300\"/>"
      ],
      "text/plain": [
       "<IPython.core.display.Image object>"
      ]
     },
     "execution_count": 18,
     "metadata": {},
     "output_type": "execute_result"
    }
   ],
   "source": [
    "from IPython.display import Image\n",
    "Image(url='image.png', width=\"300\")"
   ]
  },
  {
   "cell_type": "markdown",
   "metadata": {},
   "source": [
    "from what I skimmed about nonlinear algebra, the stuff described in the quote might be related to some trait of linear algebra that sets it apart from nonlinear algebra but I might be completely wrong\n",
    "\n",
    "btw there seem to be a nice ebook on non-linear algebra https://books.google.pl/books?id=J_z9nqTVuwUC&pg=PR11&hl=pl&source=gbs_selected_pages&cad=1#v=onepage&q&f=false \"Introduction to non-linear algebra\" V Dolotin, A Morozov"
   ]
  },
  {
   "cell_type": "code",
   "execution_count": 15,
   "metadata": {
    "vscode": {
     "languageId": "latex"
    }
   },
   "outputs": [
    {
     "data": {
      "text/latex": [
       "for every $\\alpha \\in \\mathbb{C}$ there exists a unique $\\beta \\in \\mathbb{C}$ such that $\\alpha + \\beta = 0$\n",
       "\n",
       "let $\\alpha = a + bi$, $\\beta = c + di$\n",
       "\n",
       "$$a + bi + c + di = 0$$\n",
       "$$a + bi = -c - di$$\n",
       "$$a + bi = -(c + di)$$\n",
       "$$x = -(-x)$$\n"
      ],
      "text/plain": [
       "<IPython.core.display.Latex object>"
      ]
     },
     "metadata": {},
     "output_type": "display_data"
    }
   ],
   "source": [
    "%%latex\n",
    "for every $\\alpha \\in \\mathbb{C}$ there exists a unique $\\beta \\in \\mathbb{C}$ such that $\\alpha + \\beta = 0$\n",
    "\n",
    "let $\\alpha = a + bi$, $\\beta = c + di$\n",
    "\n",
    "$$a + bi + c + di = 0$$\n",
    "$$a + bi = -c - di$$\n",
    "$$a + bi = -(c + di)$$\n",
    "$$x = -(-x)$$"
   ]
  },
  {
   "cell_type": "code",
   "execution_count": 16,
   "metadata": {
    "vscode": {
     "languageId": "latex"
    }
   },
   "outputs": [
    {
     "data": {
      "text/latex": [
       "for every $\\alpha \\in \\mathbb{C}$ with $\\alpha \\neq 0$, there exists a unique $\\beta \\in \\mathbb{C}$ such that $\\alpha\\beta=1$\n",
       "\n",
       "let $\\alpha = a + bi$, $\\beta = c + di$\n",
       "\n",
       "assuming it's true:\n",
       "$$(a + bi)(c + di)=1$$\n",
       "$$c+di=1/(a +bi)$$\n",
       "$$(a + bi)(1/a+bi)=1$$\n",
       "\n",
       "other way (from solutions):\n",
       "$$\\beta = \\frac{1}{\\alpha}$$\n",
       "$$\\beta = 1 \\cdot \\beta = (\\frac{1}{\\alpha}\\alpha)\\beta=(\\frac{1}{\\alpha}\\alpha)\\frac{1}{\\alpha}=\\frac{1}{\\alpha}$$\n",
       "$\\blacksquare$\n"
      ],
      "text/plain": [
       "<IPython.core.display.Latex object>"
      ]
     },
     "metadata": {},
     "output_type": "display_data"
    }
   ],
   "source": [
    "%%latex\n",
    "for every $\\alpha \\in \\mathbb{C}$ with $\\alpha \\neq 0$, there exists a unique $\\beta \\in \\mathbb{C}$ such that $\\alpha\\beta=1$\n",
    "\n",
    "let $\\alpha = a + bi$, $\\beta = c + di$\n",
    "\n",
    "assuming it's true:\n",
    "$$(a + bi)(c + di)=1$$\n",
    "$$c+di=1/(a +bi)$$\n",
    "$$(a + bi)(1/a+bi)=1$$\n",
    "\n",
    "other way (from solutions):\n",
    "$$\\beta = \\frac{1}{\\alpha}$$\n",
    "$$\\beta = 1 \\cdot \\beta = (\\frac{1}{\\alpha}\\alpha)\\beta=(\\frac{1}{\\alpha}\\alpha)\\frac{1}{\\alpha}=\\frac{1}{\\alpha}$$\n",
    "$\\blacksquare$"
   ]
  },
  {
   "cell_type": "code",
   "execution_count": 24,
   "metadata": {
    "vscode": {
     "languageId": "latex"
    }
   },
   "outputs": [
    {
     "data": {
      "text/latex": [
       "show that $\\frac{-1 + \\sqrt{3}i}{2}$ is a cube root of 1\n",
       "\n",
       "in other words, proof that:\n",
       "$$(\\frac{-1 + \\sqrt{3}i}{2})^2=1$$\n",
       "\n",
       "proof:\n",
       "$$(\\frac{-1 + \\sqrt{3}i}{2})^2=(\\frac{-1}{2})^2 + (\\frac{\\sqrt{3}i}{2})^2$$\n",
       "$$\\frac{1}{4} + \\frac{3\\cdot\\sqrt{-1}^2}{4}=\\frac{1}{4} + \\frac{3}{4}=1 \\blacksquare$$\n"
      ],
      "text/plain": [
       "<IPython.core.display.Latex object>"
      ]
     },
     "metadata": {},
     "output_type": "display_data"
    }
   ],
   "source": [
    "%%latex\n",
    "show that $\\frac{-1 + \\sqrt{3}i}{2}$ is a cube root of 1\n",
    "\n",
    "in other words, proof that:\n",
    "$$(\\frac{-1 + \\sqrt{3}i}{2})^2=1$$\n",
    "\n",
    "proof:\n",
    "$$(\\frac{-1 + \\sqrt{3}i}{2})^2=(\\frac{-1}{2})^2 + (\\frac{\\sqrt{3}i}{2})^2$$\n",
    "$$\\frac{1}{4} + \\frac{3\\cdot\\sqrt{-1}^2}{4}=\\frac{1}{4} + \\frac{3}{4}=1 \\blacksquare$$"
   ]
  },
  {
   "cell_type": "code",
   "execution_count": 52,
   "metadata": {
    "vscode": {
     "languageId": "latex"
    }
   },
   "outputs": [
    {
     "data": {
      "text/latex": [
       "find two distinct square roots of i:\n",
       "\n",
       "$\\alpha^2=i$, $\\alpha=a+bi$\n",
       "$$(a+bi)^2=i$$\n",
       "$$a^2+2abi+b^2i^2=i$$\n",
       "$$a^2+2abi-b^2=i$$\n",
       "$$a^2-b^2=0 \\text{ it's a real part; and imaginary part is } 2abi=i$$\n",
       "$$a^2=b^2 \\text{ and } 2ab=1$$\n",
       "$$a=\\frac{1}{2b} \\text{, so } (\\frac{1}{2b})^2=b^2$$\n",
       "$$\\frac{1}{4b^2}=b^2$$\n",
       "$$b^4=\\frac{1}{4} |\\sqrt{}$$\n",
       "$$b^2=\\frac{1}{2} \\text { or } b^2=-\\frac{1}{2}$$\n"
      ],
      "text/plain": [
       "<IPython.core.display.Latex object>"
      ]
     },
     "metadata": {},
     "output_type": "display_data"
    }
   ],
   "source": [
    "%%latex\n",
    "find two distinct square roots of i:\n",
    "\n",
    "$\\alpha^2=i$, $\\alpha=a+bi$\n",
    "$$(a+bi)^2=i$$\n",
    "$$a^2+2abi+b^2i^2=i$$\n",
    "$$a^2+2abi-b^2=i$$\n",
    "$$a^2-b^2=0 \\text{ it's a real part; and imaginary part is } 2abi=i$$\n",
    "$$a^2=b^2 \\text{ and } 2ab=1$$\n",
    "$$a=\\frac{1}{2b} \\text{, so } (\\frac{1}{2b})^2=b^2$$\n",
    "$$\\frac{1}{4b^2}=b^2$$\n",
    "$$b^4=\\frac{1}{4} |\\sqrt{}$$\n",
    "$$b^2=\\frac{1}{2} \\text { or } b^2=-\\frac{1}{2}$$"
   ]
  },
  {
   "cell_type": "code",
   "execution_count": null,
   "metadata": {
    "vscode": {
     "languageId": "latex"
    }
   },
   "outputs": [],
   "source": []
  }
 ],
 "metadata": {
  "kernelspec": {
   "display_name": "ml-math",
   "language": "python",
   "name": "python3"
  },
  "language_info": {
   "codemirror_mode": {
    "name": "ipython",
    "version": 3
   },
   "file_extension": ".py",
   "mimetype": "text/x-python",
   "name": "python",
   "nbconvert_exporter": "python",
   "pygments_lexer": "ipython3",
   "version": "3.9.19"
  }
 },
 "nbformat": 4,
 "nbformat_minor": 2
}
