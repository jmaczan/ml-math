{
 "cells": [
  {
   "cell_type": "markdown",
   "metadata": {},
   "source": [
    "complex arithmetic - associativity proof\n",
    "\n",
    "$(\\alpha\\beta)\\lambda=\\alpha(\\beta\\lambda)$ for all $\\alpha, \\beta, \\lambda \\in \\mathbb{C}$\n",
    "\n",
    "$\\alpha = a + bi$, $\\beta = c + di$ and $\\lambda = e + fi$\n",
    "\n",
    "$$(\\alpha\\beta)\\lambda = ((a + bi)(c + di))(e + fi)$$\n",
    "$$= ((ac - bd) + (ad + bc)i)(e + fi)$$ \n",
    "$$= (ace - bde) + (ade + bce)i + (acf - bdf)i -(adf + bcf)$$\n",
    "$$= ace - bde - adf -bcf + (ade + bce + acf - bdf)i$$\n",
    "\n",
    "$$\\alpha(\\beta\\lambda) = (a + bi)((c + di)(e + fi))$$\n",
    "$$= (a + bi)(ce + cfi + edi -df)$$\n",
    "$$= (a + bi)(ce - df + (cf + ed)i)$$\n",
    "$$= ace - adf + (acf + aed)i + bcei - bdfi + (bcf + bed)i^2$$\n",
    "$$= ace - adf + (acf + aed + bce - bdf)i - bcf - bed$$\n",
    "$$= ace -bde -adf -bcf + (ade + bce + acf -bdf)i$$ \n",
    "$\\blacksquare$"
   ]
  },
  {
   "cell_type": "code",
   "execution_count": null,
   "metadata": {},
   "outputs": [],
   "source": []
  },
  {
   "cell_type": "markdown",
   "metadata": {},
   "source": [
    "afaiunderstand, a minimal field is a set of {0, 1} with defined operations of addition and multiplication, where the only difference is that 1 + 1 is 0 (like an integer overflow)"
   ]
  },
  {
   "cell_type": "markdown",
   "metadata": {},
   "source": [
    "> For results (except in the inner product chapters) that have as a hypothesis\n",
    "that 𝐅 is 𝐂, you can probably replace that hypothesis with the hypothesis that 𝐅\n",
    "is an algebraically closed field, which means that every nonconstant polynomial\n",
    "with coefficients in 𝐅 has a zero."
   ]
  },
  {
   "cell_type": "code",
   "execution_count": 3,
   "metadata": {},
   "outputs": [
    {
     "data": {
      "text/html": [
       "<img src=\"image.png\" width=\"300\"/>"
      ],
      "text/plain": [
       "<IPython.core.display.Image object>"
      ]
     },
     "execution_count": 3,
     "metadata": {},
     "output_type": "execute_result"
    }
   ],
   "source": [
    "from IPython.display import Image\n",
    "Image(url='image.png', width=300)"
   ]
  },
  {
   "cell_type": "markdown",
   "metadata": {},
   "source": [
    "from what I skimmed about nonlinear algebra, the stuff described in the quote might be related to some trait of linear algebra that sets it apart from nonlinear algebra but I might be completely wrong\n",
    "\n",
    "btw there seem to be a nice ebook on non-linear algebra https://books.google.pl/books?id=J_z9nqTVuwUC&pg=PR11&hl=pl&source=gbs_selected_pages&cad=1#v=onepage&q&f=false \"Introduction to non-linear algebra\" V Dolotin, A Morozov"
   ]
  }
 ],
 "metadata": {
  "kernelspec": {
   "display_name": "ml-math",
   "language": "python",
   "name": "python3"
  },
  "language_info": {
   "codemirror_mode": {
    "name": "ipython",
    "version": 3
   },
   "file_extension": ".py",
   "mimetype": "text/x-python",
   "name": "python",
   "nbconvert_exporter": "python",
   "pygments_lexer": "ipython3",
   "version": "3.9.19"
  }
 },
 "nbformat": 4,
 "nbformat_minor": 2
}
